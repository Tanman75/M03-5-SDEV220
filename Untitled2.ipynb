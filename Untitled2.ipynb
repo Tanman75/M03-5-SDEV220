{
  "metadata": {
    "language_info": {
      "codemirror_mode": {
        "name": "python",
        "version": 3
      },
      "file_extension": ".py",
      "mimetype": "text/x-python",
      "name": "python",
      "nbconvert_exporter": "python",
      "pygments_lexer": "ipython3",
      "version": "3.8"
    },
    "kernelspec": {
      "name": "python",
      "display_name": "Python (Pyodide)",
      "language": "python"
    }
  },
  "nbformat_minor": 4,
  "nbformat": 4,
  "cells": [
    {
      "cell_type": "code",
      "source": "things = [\"mozzarella\", \"ciderella\", \"salmonella\"]\nthings",
      "metadata": {
        "trusted": true
      },
      "execution_count": 8,
      "outputs": [
        {
          "execution_count": 8,
          "output_type": "execute_result",
          "data": {
            "text/plain": "['mozzarella', 'ciderella', 'salmonella']"
          },
          "metadata": {}
        }
      ]
    },
    {
      "cell_type": "code",
      "source": "things = [\"mozzarella\", \"ciderella\", \"salmonella\"]\nthings[1] = \"CIDERELLA\"\nthings\n#it didn't change the order of the list. it only changed the one element making it all caps",
      "metadata": {
        "trusted": true
      },
      "execution_count": 9,
      "outputs": [
        {
          "execution_count": 9,
          "output_type": "execute_result",
          "data": {
            "text/plain": "['mozzarella', 'CINDERELLA', 'salmonella']"
          },
          "metadata": {}
        }
      ]
    },
    {
      "cell_type": "code",
      "source": "things = [\"mozzarella\", \"ciderella\", \"salmonella\"]\nthings[0] = \"MOZZARELLA\"\nthings",
      "metadata": {
        "trusted": true
      },
      "execution_count": 25,
      "outputs": [
        {
          "execution_count": 25,
          "output_type": "execute_result",
          "data": {
            "text/plain": "['MOZZARELLA', 'ciderella', 'salmonella']"
          },
          "metadata": {}
        }
      ]
    },
    {
      "cell_type": "code",
      "source": "things = [\"mozzarella\", \"ciderella\", \"salmonella\"]\nthings.remove(\"salmonella\")\nthings",
      "metadata": {
        "trusted": true
      },
      "execution_count": 23,
      "outputs": [
        {
          "execution_count": 23,
          "output_type": "execute_result",
          "data": {
            "text/plain": "['mozzarella', 'ciderella']"
          },
          "metadata": {}
        }
      ]
    },
    {
      "cell_type": "code",
      "source": "def good():\n    list = ['Harry', 'Ron', 'Hermione']\n    return list\ngood()",
      "metadata": {
        "trusted": true
      },
      "execution_count": 31,
      "outputs": [
        {
          "execution_count": 31,
          "output_type": "execute_result",
          "data": {
            "text/plain": "['Harry', 'Ron', 'Hermione']"
          },
          "metadata": {}
        }
      ]
    },
    {
      "cell_type": "code",
      "source": "def get_odds():\n    return (n for n in range(1,10,2))\nfor n in get_odds():\n    print(n)\ncount = 0\nfor n in get_odds():\n    if count == 2:\n        print(\"This is the third number\",n)\n        break\n    count += 1",
      "metadata": {
        "trusted": true
      },
      "execution_count": 53,
      "outputs": [
        {
          "name": "stdout",
          "text": "1\n3\n5\n7\n9\nThis is the third number 5\n",
          "output_type": "stream"
        }
      ]
    },
    {
      "cell_type": "code",
      "source": "",
      "metadata": {},
      "execution_count": null,
      "outputs": []
    }
  ]
}