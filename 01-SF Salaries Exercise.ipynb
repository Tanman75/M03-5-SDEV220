{
  "metadata": {
    "kernelspec": {
      "name": "python",
      "display_name": "Python (Pyodide)",
      "language": "python"
    },
    "language_info": {
      "codemirror_mode": {
        "name": "python",
        "version": 3
      },
      "file_extension": ".py",
      "mimetype": "text/x-python",
      "name": "python",
      "nbconvert_exporter": "python",
      "pygments_lexer": "ipython3",
      "version": "3.8"
    }
  },
  "nbformat_minor": 4,
  "nbformat": 4,
  "cells": [
    {
      "cell_type": "markdown",
      "source": "___\n\n<a href='http://www.pieriandata.com'> <img src='../../Pierian_Data_Logo.png' /></a>\n___",
      "metadata": {}
    },
    {
      "cell_type": "markdown",
      "source": "# SF Salaries Exercise \n\nWelcome to a quick exercise for you to practice your pandas skills! We will be using the [SF Salaries Dataset](https://www.kaggle.com/kaggle/sf-salaries) from Kaggle! Just follow along and complete the tasks outlined in bold below. The tasks will get harder and harder as you go along.",
      "metadata": {}
    },
    {
      "cell_type": "markdown",
      "source": "** Import pandas as pd.**",
      "metadata": {}
    },
    {
      "cell_type": "code",
      "source": "import pandas as pd\n#df = pd.read_csv('pokemon_data.csv')\n\n#print(df.head(5))\n\n#df_xlsx = pd.read_excel('pokemon_data.xlsx')\n#print(df_xlsx.head(3))",
      "metadata": {
        "tags": [],
        "trusted": true
      },
      "execution_count": 15,
      "outputs": []
    },
    {
      "cell_type": "markdown",
      "source": "** Read Salaries.csv as a dataframe called sal.**",
      "metadata": {}
    },
    {
      "cell_type": "code",
      "source": "sal = pd.read_csv('Salaries.csv')",
      "metadata": {},
      "execution_count": null,
      "outputs": []
    },
    {
      "cell_type": "markdown",
      "source": "** Check the head of the DataFrame. **",
      "metadata": {}
    },
    {
      "cell_type": "code",
      "source": "sal",
      "metadata": {},
      "execution_count": null,
      "outputs": []
    },
    {
      "cell_type": "markdown",
      "source": "** Use the .info() method to find out how many entries there are.**",
      "metadata": {}
    },
    {
      "cell_type": "code",
      "source": "sal.info()",
      "metadata": {
        "collapsed": false,
        "jupyter": {
          "outputs_hidden": false
        }
      },
      "execution_count": 9,
      "outputs": [
        {
          "name": "stdout",
          "output_type": "stream",
          "text": "<class 'pandas.core.frame.DataFrame'>\n\nRangeIndex: 148654 entries, 0 to 148653\n\nData columns (total 13 columns):\n\nId                  148654 non-null int64\n\nEmployeeName        148654 non-null object\n\nJobTitle            148654 non-null object\n\nBasePay             148045 non-null float64\n\nOvertimePay         148650 non-null float64\n\nOtherPay            148650 non-null float64\n\nBenefits            112491 non-null float64\n\nTotalPay            148654 non-null float64\n\nTotalPayBenefits    148654 non-null float64\n\nYear                148654 non-null int64\n\nNotes               0 non-null float64\n\nAgency              148654 non-null object\n\nStatus              0 non-null float64\n\ndtypes: float64(8), int64(2), object(3)\n\nmemory usage: 14.7+ MB\n"
        }
      ]
    },
    {
      "cell_type": "markdown",
      "source": "**What is the average BasePay ?**",
      "metadata": {}
    },
    {
      "cell_type": "code",
      "source": "sal['BasePay'].mean()",
      "metadata": {
        "collapsed": false,
        "jupyter": {
          "outputs_hidden": false
        }
      },
      "execution_count": 10,
      "outputs": [
        {
          "execution_count": 10,
          "output_type": "execute_result",
          "data": {
            "text/plain": [
              "66325.44884050643"
            ]
          },
          "metadata": {}
        }
      ]
    },
    {
      "cell_type": "markdown",
      "source": "** What is the highest amount of OvertimePay in the dataset ? **",
      "metadata": {}
    },
    {
      "cell_type": "code",
      "source": "sal['OvertimePay'].max()",
      "metadata": {
        "collapsed": false,
        "jupyter": {
          "outputs_hidden": false
        }
      },
      "execution_count": 11,
      "outputs": [
        {
          "execution_count": 11,
          "output_type": "execute_result",
          "data": {
            "text/plain": [
              "245131.88"
            ]
          },
          "metadata": {}
        }
      ]
    },
    {
      "cell_type": "markdown",
      "source": "** What is the job title of  JOSEPH DRISCOLL ? Note: Use all caps, otherwise you may get an answer that doesn't match up (there is also a lowercase Joseph Driscoll). **",
      "metadata": {}
    },
    {
      "cell_type": "code",
      "source": "name = sal.loc[sal['EmployeeName'] == 'JOSEPH DRISCOLL']\n\njob_title = name['JobTitle']\n\nprint(job_title)",
      "metadata": {
        "collapsed": false,
        "jupyter": {
          "outputs_hidden": false
        }
      },
      "execution_count": 12,
      "outputs": [
        {
          "execution_count": 12,
          "output_type": "execute_result",
          "data": {
            "text/plain": [
              "24    CAPTAIN, FIRE SUPPRESSION\n",
              "Name: JobTitle, dtype: object"
            ]
          },
          "metadata": {}
        }
      ]
    },
    {
      "cell_type": "markdown",
      "source": "** How much does JOSEPH DRISCOLL make (including benefits)? **",
      "metadata": {}
    },
    {
      "cell_type": "code",
      "source": "total_pay = name['TotalPayBenefits']\nprint(total_pay)",
      "metadata": {
        "collapsed": false,
        "jupyter": {
          "outputs_hidden": false
        }
      },
      "execution_count": 13,
      "outputs": [
        {
          "execution_count": 13,
          "output_type": "execute_result",
          "data": {
            "text/plain": [
              "24    270324.91\n",
              "Name: TotalPayBenefits, dtype: float64"
            ]
          },
          "metadata": {}
        }
      ]
    },
    {
      "cell_type": "markdown",
      "source": "** What is the name of highest paid person (including benefits)?**",
      "metadata": {}
    },
    {
      "cell_type": "code",
      "source": "highest_paid_df = sal['TotalPayBenefits'].idxmax()\n\nhighest_paid_person = sal.loc[highest_paid_df, 'EmployeeName']\n\nprint(highest_paid_person)",
      "metadata": {
        "collapsed": false,
        "jupyter": {
          "outputs_hidden": false
        }
      },
      "execution_count": 14,
      "outputs": [
        {
          "execution_count": 14,
          "output_type": "execute_result",
          "data": {
            "text/html": [
              "<div>\n",
              "<table border=\"1\" class=\"dataframe\">\n",
              "  <thead>\n",
              "    <tr style=\"text-align: right;\">\n",
              "      <th></th>\n",
              "      <th>Id</th>\n",
              "      <th>EmployeeName</th>\n",
              "      <th>JobTitle</th>\n",
              "      <th>BasePay</th>\n",
              "      <th>OvertimePay</th>\n",
              "      <th>OtherPay</th>\n",
              "      <th>Benefits</th>\n",
              "      <th>TotalPay</th>\n",
              "      <th>TotalPayBenefits</th>\n",
              "      <th>Year</th>\n",
              "      <th>Notes</th>\n",
              "      <th>Agency</th>\n",
              "      <th>Status</th>\n",
              "    </tr>\n",
              "  </thead>\n",
              "  <tbody>\n",
              "    <tr>\n",
              "      <th>0</th>\n",
              "      <td>1</td>\n",
              "      <td>NATHANIEL FORD</td>\n",
              "      <td>GENERAL MANAGER-METROPOLITAN TRANSIT AUTHORITY</td>\n",
              "      <td>167411.18</td>\n",
              "      <td>0.0</td>\n",
              "      <td>400184.25</td>\n",
              "      <td>NaN</td>\n",
              "      <td>567595.43</td>\n",
              "      <td>567595.43</td>\n",
              "      <td>2011</td>\n",
              "      <td>NaN</td>\n",
              "      <td>San Francisco</td>\n",
              "      <td>NaN</td>\n",
              "    </tr>\n",
              "  </tbody>\n",
              "</table>\n",
              "</div>"
            ],
            "text/plain": [
              "   Id    EmployeeName                                        JobTitle  \\\n",
              "0   1  NATHANIEL FORD  GENERAL MANAGER-METROPOLITAN TRANSIT AUTHORITY   \n",
              "\n",
              "     BasePay  OvertimePay   OtherPay  Benefits   TotalPay  TotalPayBenefits  \\\n",
              "0  167411.18          0.0  400184.25       NaN  567595.43         567595.43   \n",
              "\n",
              "   Year  Notes         Agency  Status  \n",
              "0  2011    NaN  San Francisco     NaN  "
            ]
          },
          "metadata": {}
        }
      ]
    },
    {
      "cell_type": "markdown",
      "source": "** What is the name of lowest paid person (including benefits)? Do you notice something strange about how much he or she is paid?**",
      "metadata": {}
    },
    {
      "cell_type": "code",
      "source": "lowest_paid_df = sal['TotalPayBenefits'].idxmin()\n\nlowest_paid_person = sal.loc[lowest_paid_df, 'EmployeeName']\n\nlowest_pay = sal.loc[lowest_paid_df, 'TotalPayBenefits']\n\nprint(lowest_paid_person, \": \", lowest_pay)",
      "metadata": {},
      "execution_count": null,
      "outputs": []
    },
    {
      "cell_type": "markdown",
      "source": "** What was the average (mean) BasePay of all employees per year? (2011-2014) ? **",
      "metadata": {}
    },
    {
      "cell_type": "code",
      "source": "sal.groupby('Year')['BasePay'].mean()",
      "metadata": {
        "collapsed": false,
        "jupyter": {
          "outputs_hidden": false
        }
      },
      "execution_count": 16,
      "outputs": [
        {
          "execution_count": 16,
          "output_type": "execute_result",
          "data": {
            "text/plain": [
              "Year\n",
              "2011    63595.956517\n",
              "2012    65436.406857\n",
              "2013    69630.030216\n",
              "2014    66564.421924\n",
              "Name: BasePay, dtype: float64"
            ]
          },
          "metadata": {}
        }
      ]
    },
    {
      "cell_type": "markdown",
      "source": "** How many unique job titles are there? **",
      "metadata": {}
    },
    {
      "cell_type": "code",
      "source": "sal['JobTitle'].nunique()",
      "metadata": {
        "collapsed": false,
        "jupyter": {
          "outputs_hidden": false
        }
      },
      "execution_count": 17,
      "outputs": [
        {
          "execution_count": 17,
          "output_type": "execute_result",
          "data": {
            "text/plain": [
              "2159"
            ]
          },
          "metadata": {}
        }
      ]
    },
    {
      "cell_type": "markdown",
      "source": "** What are the top 5 most common jobs? **",
      "metadata": {}
    },
    {
      "cell_type": "code",
      "source": "sal['JobTitle'].value_counts().head(5)",
      "metadata": {
        "collapsed": false,
        "jupyter": {
          "outputs_hidden": false
        }
      },
      "execution_count": 18,
      "outputs": [
        {
          "execution_count": 18,
          "output_type": "execute_result",
          "data": {
            "text/plain": [
              "Transit Operator                7036\n",
              "Special Nurse                   4389\n",
              "Registered Nurse                3736\n",
              "Public Svc Aide-Public Works    2518\n",
              "Police Officer 3                2421\n",
              "Name: JobTitle, dtype: int64"
            ]
          },
          "metadata": {}
        }
      ]
    },
    {
      "cell_type": "markdown",
      "source": "** How many Job Titles were represented by only one person in 2013? (e.g. Job Titles with only one occurence in 2013?) **",
      "metadata": {}
    },
    {
      "cell_type": "code",
      "source": "year_2013 = sal[sal['Year']==2013]\n\ntitle_count = year_2013['JobTitle'].value_counts()\n\none_person_job_titles = (title_count == 1).sum()\n\nprint(one_person_job_titles)",
      "metadata": {
        "collapsed": false,
        "jupyter": {
          "outputs_hidden": false
        }
      },
      "execution_count": 19,
      "outputs": [
        {
          "execution_count": 19,
          "output_type": "execute_result",
          "data": {
            "text/plain": [
              "202"
            ]
          },
          "metadata": {}
        }
      ]
    },
    {
      "cell_type": "markdown",
      "source": "** How many people have the word Chief in their job title? (This is pretty tricky) **",
      "metadata": {}
    },
    {
      "cell_type": "code",
      "source": "num = sal['JobTitle'].str.contains('Chief', case=False).sum()\n\n\nprint(num)",
      "metadata": {
        "collapsed": true,
        "jupyter": {
          "outputs_hidden": true
        }
      },
      "execution_count": 20,
      "outputs": []
    },
    {
      "cell_type": "code",
      "source": "",
      "metadata": {
        "collapsed": false,
        "jupyter": {
          "outputs_hidden": false
        }
      },
      "execution_count": 21,
      "outputs": [
        {
          "execution_count": 21,
          "output_type": "execute_result",
          "data": {
            "text/plain": [
              "477"
            ]
          },
          "metadata": {}
        }
      ]
    },
    {
      "cell_type": "markdown",
      "source": "** Bonus: Is there a correlation between length of the Job Title string and Salary? **",
      "metadata": {}
    },
    {
      "cell_type": "code",
      "source": "sal['JobTitleLength'] = sal['JobTitle'].apply(len)\n\nsal['JobTitleLength'].corr(sal['TotalPayBenefits'])",
      "metadata": {
        "collapsed": false,
        "jupyter": {
          "outputs_hidden": false
        }
      },
      "execution_count": 22,
      "outputs": []
    },
    {
      "cell_type": "code",
      "source": "",
      "metadata": {
        "collapsed": false,
        "jupyter": {
          "outputs_hidden": false
        }
      },
      "execution_count": 23,
      "outputs": [
        {
          "execution_count": 23,
          "output_type": "execute_result",
          "data": {
            "text/html": [
              "<div>\n",
              "<table border=\"1\" class=\"dataframe\">\n",
              "  <thead>\n",
              "    <tr style=\"text-align: right;\">\n",
              "      <th></th>\n",
              "      <th>title_len</th>\n",
              "      <th>TotalPayBenefits</th>\n",
              "    </tr>\n",
              "  </thead>\n",
              "  <tbody>\n",
              "    <tr>\n",
              "      <th>title_len</th>\n",
              "      <td>1.000000</td>\n",
              "      <td>-0.036878</td>\n",
              "    </tr>\n",
              "    <tr>\n",
              "      <th>TotalPayBenefits</th>\n",
              "      <td>-0.036878</td>\n",
              "      <td>1.000000</td>\n",
              "    </tr>\n",
              "  </tbody>\n",
              "</table>\n",
              "</div>"
            ],
            "text/plain": [
              "                  title_len  TotalPayBenefits\n",
              "title_len          1.000000         -0.036878\n",
              "TotalPayBenefits  -0.036878          1.000000"
            ]
          },
          "metadata": {}
        }
      ]
    },
    {
      "cell_type": "markdown",
      "source": "# Great Job!",
      "metadata": {}
    }
  ]
}