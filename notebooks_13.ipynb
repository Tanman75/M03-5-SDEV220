{
  "metadata": {
    "language_info": {
      "codemirror_mode": {
        "name": "python",
        "version": 3
      },
      "file_extension": ".py",
      "mimetype": "text/x-python",
      "name": "python",
      "nbconvert_exporter": "python",
      "pygments_lexer": "ipython3",
      "version": "3.8"
    },
    "kernelspec": {
      "name": "python",
      "display_name": "Python (Pyodide)",
      "language": "python"
    }
  },
  "nbformat_minor": 4,
  "nbformat": 4,
  "cells": [
    {
      "cell_type": "code",
      "source": "today_string = open(\"today.txt\")\ndata = today_string.read()\nprint(data)",
      "metadata": {
        "trusted": true
      },
      "execution_count": 2,
      "outputs": [
        {
          "name": "stdout",
          "text": "7/17/2023\n",
          "output_type": "stream"
        }
      ]
    },
    {
      "cell_type": "code",
      "source": "import parser\ntoday_string = open(\"today.txt\")\ndata = today_string.read()\nst = parser.expr(data)\nprint(st)\ncode = st.compile()\nprint(code)\nres = eval(code)\nprint(res)",
      "metadata": {},
      "execution_count": null,
      "outputs": []
    },
    {
      "cell_type": "code",
      "source": "import multiprocessing\nfrom datetime import datetime\nimport time\nimport random\nimport os\n\ndef Thistime():\n    current = datetime.now()\n    print(\"Today's date and time is {}\".format(current))\n    time.sleep(random.random())\n\nif __name__ == '__main__':\n    Timeroc1 = multiprocessing.Process(target=Thistime())\n    Timeroc2 = multiprocessing.Process(target=Thistime())\n    Timeroc3 = multiprocessing.Process(target=Thistime())\n    Timeroc1.start()\n    Timeroc2.start()\n    Timeroc3.start()\n    Timeroc1.join()\n    Timeroc2.join()\n    Timeroc3.join()\n    \n\n\n",
      "metadata": {
        "trusted": true
      },
      "execution_count": 33,
      "outputs": [
        {
          "name": "stdout",
          "text": "Today's date and time is 2023-07-17 19:28:42.895000\nToday's date and time is 2023-07-17 19:28:43.471000\nToday's date and time is 2023-07-17 19:28:43.592000\n",
          "output_type": "stream"
        }
      ]
    },
    {
      "cell_type": "code",
      "source": "",
      "metadata": {},
      "execution_count": null,
      "outputs": []
    }
  ]
}