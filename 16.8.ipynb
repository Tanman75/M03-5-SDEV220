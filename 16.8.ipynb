{
  "metadata": {
    "language_info": {
      "codemirror_mode": {
        "name": "python",
        "version": 3
      },
      "file_extension": ".py",
      "mimetype": "text/x-python",
      "name": "python",
      "nbconvert_exporter": "python",
      "pygments_lexer": "ipython3",
      "version": "3.8"
    },
    "kernelspec": {
      "name": "python",
      "display_name": "Python (Pyodide)",
      "language": "python"
    }
  },
  "nbformat_minor": 4,
  "nbformat": 4,
  "cells": [
    {
      "cell_type": "code",
      "source": "import sqlite3\n\nconn = sqlite3.connect('books.db')\n\ncursor = conn.cursor()\n\ncursor.execute('''CREATE TABLE IF NOT EXISTS books\n                  (title TEXT, author TEXT, year INTEGER)''')\n\nconn.commit()\nconn.close()\n\nprint(\"created\")",
      "metadata": {
        "trusted": true
      },
      "execution_count": 1,
      "outputs": [
        {
          "name": "stdout",
          "text": "created\n",
          "output_type": "stream"
        }
      ]
    },
    {
      "cell_type": "code",
      "source": "import csv\n\ndata = [\n    [\"title\", \"author\", \"year\"],\n    [\"The Lightning Thief (Percy Jackson and the Olympians\", \" Rick Riordan\", 2005],\n    [\"The Maze Runner\", \"James Dashner\", 2009],\n    [\"Binm the great\", \"Tim Time\", 2020]\n]\n\nwith open(\"books2.csv\", \"w\", newline=\"\") as file:\n    writer = csv.writer(file)\n    writer.writerows(data)\n\nprint(\"CSV created\")",
      "metadata": {
        "trusted": true
      },
      "execution_count": 2,
      "outputs": [
        {
          "name": "stdout",
          "text": "CSV created\n",
          "output_type": "stream"
        }
      ]
    },
    {
      "cell_type": "code",
      "source": "import csv\nimport sqlite3\n\n# Connect to the database\nconnection = sqlite3.connect(\"books.db\")\ncursor = connection.cursor()\n\ncursor.execute(\"\"\"\n    CREATE TABLE IF NOT EXISTS books (\n        title TEXT,\n        author TEXT,\n        year INTEGER\n    )\n\"\"\")\n\nwith open(\"books2.csv\", \"r\") as file:\n    reader = csv.reader(file)\n    next(reader)  # Skip the header row\n    for row in reader:\n        cursor.execute(\"INSERT INTO books (title, author, year) VALUES (?, ?, ?)\", row)\n\nconnection.commit()\ncursor.close()\nconnection.close()\n\nprint(\"Data has been inserted into 'books.db'\")",
      "metadata": {
        "trusted": true
      },
      "execution_count": 3,
      "outputs": [
        {
          "name": "stdout",
          "text": "Data has been inserted into 'books.db'\n",
          "output_type": "stream"
        }
      ]
    },
    {
      "cell_type": "code",
      "source": "import sqlite3\n\nconnection = sqlite3.connect(\"books.db\")\ncursor = connection.cursor()\n\ncursor.execute(\"SELECT title FROM books ORDER BY title\")\nbooks = cursor.fetchall()\n\nfor book in books:\n    print(book)\n\ncursor.close()\nconnection.close()",
      "metadata": {
        "trusted": true
      },
      "execution_count": 4,
      "outputs": [
        {
          "name": "stdout",
          "text": "('Binm the great',)\n('The Lightning Thief (Percy Jackson and the Olympians',)\n('The Maze Runner',)\n",
          "output_type": "stream"
        }
      ]
    },
    {
      "cell_type": "code",
      "source": "",
      "metadata": {},
      "execution_count": null,
      "outputs": []
    }
  ]
}